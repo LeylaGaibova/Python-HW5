{
 "cells": [
  {
   "cell_type": "markdown",
   "metadata": {},
   "source": [
    "\n",
    "Вы работаете секретарем и вам постоянно приходят различные документы. Вы должны быть очень внимательны, чтобы не потерять ни один документ. Каталог документов хранится в следующем виде:"
   ]
  },
  {
   "cell_type": "code",
   "execution_count": 1,
   "metadata": {},
   "outputs": [],
   "source": [
    "documents = [\n",
    "    {'type': 'passport', 'number': '2207 876234', 'name': 'Василий Гупкин'},\n",
    "    {'type': 'invoice', 'number': '11-2', 'name': 'Геннадий Покемонов'},\n",
    "    {'type': 'insurance', 'number': '10006', 'name': 'Аристарх Павлов'}\n",
    "]\n"
   ]
  },
  {
   "cell_type": "markdown",
   "metadata": {},
   "source": [
    "Перечень полок, на которых находятся документы хранится в следующем виде:"
   ]
  },
  {
   "cell_type": "code",
   "execution_count": 2,
   "metadata": {},
   "outputs": [],
   "source": [
    "directories = {\n",
    "    '1': ['2207 876234', '11-2'],\n",
    "    '2': ['10006'],\n",
    "    '3': []\n",
    "}"
   ]
  },
  {
   "cell_type": "code",
   "execution_count": 12,
   "metadata": {},
   "outputs": [
    {
     "name": "stdout",
     "output_type": "stream",
     "text": [
      "[{'type': 'passport', 'number': '2207 876234', 'name': 'Василий Гупкин'}, {'type': 'invoice', 'number': '11-2', 'name': 'Геннадий Покемонов'}, {'type': 'insurance', 'number': '10006', 'name': 'Аристарх Павлов'}]\n"
     ]
    }
   ],
   "source": [
    "print(documents)"
   ]
  },
  {
   "cell_type": "code",
   "execution_count": 13,
   "metadata": {},
   "outputs": [
    {
     "name": "stdout",
     "output_type": "stream",
     "text": [
      "{'1': ['2207 876234', '11-2'], '2': ['10006'], '3': []}\n"
     ]
    }
   ],
   "source": [
    "print(directories)"
   ]
  },
  {
   "cell_type": "code",
   "execution_count": null,
   "metadata": {},
   "outputs": [],
   "source": []
  },
  {
   "cell_type": "code",
   "execution_count": 3,
   "metadata": {},
   "outputs": [],
   "source": [
    "def add_doc(doc_list, dir_dic):\n",
    "    doc_number = input('Введите номер документа: ')\n",
    "    doc_type= input('Введите тип документа: ')\n",
    "    doc_owner = input('Введите имя владельца: ')\n",
    "    to_shelf = input('Введите номер полки, на котором он будет храниться: ')\n",
    "    new_dic = {'type': doc_type, 'number': doc_number, 'name': doc_owner}\n",
    "    while True:\n",
    "        if to_shelf in dir_dic:\n",
    "            doc_list.append(new_dic)\n",
    "            to_add = dir_dic.get(to_shelf)\n",
    "            to_add.append(doc_number)\n",
    "            return None\n",
    "        print('Такой полки нет')\n",
    "        to_shelf = input('Введите номер полки, на котором он будет храниться: ')\n"
   ]
  },
  {
   "cell_type": "code",
   "execution_count": 4,
   "metadata": {},
   "outputs": [],
   "source": [
    "def move_doc(dir_dic):\n",
    "    doc_number = input('Введите номер документа: ')  \n",
    "    if_there_doc = 0\n",
    "    if_there_shelf = 0\n",
    "    for key, value in dir_dic.items():\n",
    "        if doc_number in value:\n",
    "            doc_index = value.index(doc_number)\n",
    "            value_1 = value\n",
    "            key_where_doc = key\n",
    "            if_there_doc = 1\n",
    "    if if_there_doc == 0:\n",
    "        print('Такого документа нет у нас на полке')\n",
    "        return None\n",
    "    to_shelf = input('Введите целевую полку: ')\n",
    "    for key, value in dir_dic.items():\n",
    "        if to_shelf == key:\n",
    "            value_2 = value\n",
    "            if_there_shelf = 1\n",
    "    if if_there_shelf == 0:\n",
    "        print('Такой полки нет')\n",
    "        return None\n",
    "    if to_shelf == key_where_doc:\n",
    "        print('Данный документ уже на этой полке')\n",
    "        return None       \n",
    "    else:\n",
    "        value_2.append(doc_number)\n",
    "        del value_1[doc_index]\n",
    "        "
   ]
  },
  {
   "cell_type": "code",
   "execution_count": 5,
   "metadata": {},
   "outputs": [],
   "source": [
    "def delete_document(doc_list, dir_dic):\n",
    "    doc_number = input('Введите номер документа: ')\n",
    "    a = 0\n",
    "    for doc in doc_list:\n",
    "        if doc_number == doc['number']:\n",
    "            doc_list.remove(doc)\n",
    "            a = 1\n",
    "    if a == 0:\n",
    "        print('Такого документа нет в каталоге')\n",
    "        return None\n",
    "    for value in dir_dic.values():\n",
    "        if doc_number in value:\n",
    "            doc_index = value.index(doc_number)\n",
    "            del value[doc_index]\n",
    "            return None\n",
    "    print('Такаго документа нет на полках')   "
   ]
  },
  {
   "cell_type": "code",
   "execution_count": 6,
   "metadata": {},
   "outputs": [],
   "source": [
    "def add_shelf(dir_dic):\n",
    "    new_shelf = input('Введите номер новой полки: ')\n",
    "    for key in dir_dic.keys():\n",
    "        if new_shelf == key:\n",
    "            print('Полка уже существует')\n",
    "    dir_dic.update({new_shelf: []})"
   ]
  },
  {
   "cell_type": "code",
   "execution_count": 7,
   "metadata": {},
   "outputs": [],
   "source": [
    "def documents_list(doc_list):\n",
    "        for doc in doc_list:\n",
    "            print(doc['type'], ' \"', doc['number'], '\" \"', doc['name'], '\"', sep='')"
   ]
  },
  {
   "cell_type": "code",
   "execution_count": 8,
   "metadata": {},
   "outputs": [],
   "source": [
    "def print_dir(dir_dic):\n",
    "    doc_number = input('Введите номер документа: ')\n",
    "    for key, value in dir_dic.items():\n",
    "        if doc_number in value:\n",
    "            print(key)\n",
    "            return None\n",
    "    print('Несуществующий документ')    "
   ]
  },
  {
   "cell_type": "code",
   "execution_count": 9,
   "metadata": {},
   "outputs": [],
   "source": [
    "def print_name(doc_list):\n",
    "    doc_number = input('Введите номер документа: ')\n",
    "    for doc in doc_list:\n",
    "        if doc_number == doc['number']:\n",
    "            print(doc['name'])\n",
    "            return None\n",
    "    print('Несуществующий документ')"
   ]
  },
  {
   "cell_type": "code",
   "execution_count": 10,
   "metadata": {},
   "outputs": [],
   "source": [
    "def commands():\n",
    "    while True:\n",
    "        user_input = input('Введите команду: ')\n",
    "        if user_input == 'p':\n",
    "            print_name(documents)\n",
    "            break\n",
    "        elif user_input == 's': \n",
    "            print_dir(directories)\n",
    "            break            \n",
    "        elif user_input == 'l':\n",
    "            documents_list(documents)        \n",
    "            break\n",
    "        elif user_input == 'as':\n",
    "            add_shelf(directories)        \n",
    "            break\n",
    "        elif user_input == 'd':\n",
    "            delete_document(documents, directories)        \n",
    "            break\n",
    "        elif user_input == 'm':\n",
    "            move_doc(directories)        \n",
    "            break\n",
    "        elif user_input == 'a':\n",
    "            add_doc(documents, directories)        \n",
    "            break  "
   ]
  },
  {
   "cell_type": "code",
   "execution_count": 11,
   "metadata": {},
   "outputs": [
    {
     "name": "stdout",
     "output_type": "stream",
     "text": [
      "Введите команду: l\n",
      "passport \"2207 876234\" \"Василий Гупкин\"\n",
      "invoice \"11-2\" \"Геннадий Покемонов\"\n",
      "insurance \"10006\" \"Аристарх Павлов\"\n"
     ]
    }
   ],
   "source": [
    "commands()"
   ]
  },
  {
   "cell_type": "code",
   "execution_count": 36,
   "metadata": {},
   "outputs": [],
   "source": []
  },
  {
   "cell_type": "code",
   "execution_count": null,
   "metadata": {},
   "outputs": [],
   "source": []
  },
  {
   "cell_type": "code",
   "execution_count": null,
   "metadata": {},
   "outputs": [],
   "source": []
  },
  {
   "cell_type": "markdown",
   "metadata": {},
   "source": [
    "Необходимо реализовать пользовательские команды (внимание! это не название функций, которые должны быть выразительными, а команды, которые вводит пользователь, чтобы получить необходимый результат):\n",
    "\n",
    "p – people – команда, которая спросит номер документа и выведет имя человека, которому он принадлежит;\n",
    "\n",
    "s – shelf – команда, которая спросит номер документа и выведет номер полки, на которой он находится\n",
    "Правильно обработайте ситуации, когда пользователь будет вводить несуществующий документ.\n",
    "\n",
    "l – list – команда, которая выведет список всех документов в формате\n",
    "passport \"2207 876234\" \"Василий Гупкин\"\n",
    "\n",
    "as – add shelf – команда, которая спросит номер новой полки и добавит ее в перечень. Предусмотрите случай, когда пользователь добавляет полку, которая уже существует.\n",
    "\n",
    "d – delete – команда, которая спросит номер документа и удалит его из каталога и из перечня полок. Предусмотрите сценарий, когда пользователь вводит несуществующий документ;\n",
    "\n",
    "m – move – команда, которая спросит номер документа и целевую полку и переместит его с текущей полки на целевую. Корректно обработайте кейсы, когда пользователь пытается переместить несуществующий документ или переместить документ на несуществующую полку;\n",
    "\n",
    "a – add – команда, которая добавит новый документ в каталог и в перечень полок, спросив его номер, тип, имя владельца и номер полки, на котором он будет храниться. Корректно обработайте ситуацию, когда пользователь будет пытаться добавить документ на несуществующую полку."
   ]
  },
  {
   "cell_type": "code",
   "execution_count": null,
   "metadata": {},
   "outputs": [],
   "source": []
  }
 ],
 "metadata": {
  "kernelspec": {
   "display_name": "Python 3",
   "language": "python",
   "name": "python3"
  },
  "language_info": {
   "codemirror_mode": {
    "name": "ipython",
    "version": 3
   },
   "file_extension": ".py",
   "mimetype": "text/x-python",
   "name": "python",
   "nbconvert_exporter": "python",
   "pygments_lexer": "ipython3",
   "version": "3.7.6"
  }
 },
 "nbformat": 4,
 "nbformat_minor": 4
}
